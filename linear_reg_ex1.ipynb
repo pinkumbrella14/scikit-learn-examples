{
 "cells": [
  {
   "cell_type": "markdown",
   "metadata": {},
   "source": [
    "### Background\n",
    "\n",
    "Regression is a type of supervised machine learning algorithm. It's purpose is to predict continuous value outputs. For example, predicting the price of a home would fall under regression. Predicting if an e-mail is spam or ham is **not** a regression question (it's a classification question - also under supervised learning).\n",
    "\n",
    "Linear regression specifically predicts the value of a dependent variable based on a given value of an independent variables. The relationship between them is presumed to be linear, hence the name. Plotted, we see a line that best fits the points on the x,y coordinate system.\n",
    "\n",
    "The equation for linear regression is **Y = mx + b**. B is the intercept and m is the slope of the line. Multiple linear regression is this same concept extended to more than two predicting variables and here the equation is a hyperplane.\n"
   ]
  },
  {
   "cell_type": "markdown",
   "metadata": {},
   "source": [
    "### Simple Linear Regression"
   ]
  },
  {
   "cell_type": "code",
   "execution_count": null,
   "metadata": {},
   "outputs": [],
   "source": []
  }
 ],
 "metadata": {
  "kernelspec": {
   "display_name": "Python 3",
   "language": "python",
   "name": "python3"
  },
  "language_info": {
   "codemirror_mode": {
    "name": "ipython",
    "version": 3
   },
   "file_extension": ".py",
   "mimetype": "text/x-python",
   "name": "python",
   "nbconvert_exporter": "python",
   "pygments_lexer": "ipython3",
   "version": "3.7.1"
  }
 },
 "nbformat": 4,
 "nbformat_minor": 2
}
